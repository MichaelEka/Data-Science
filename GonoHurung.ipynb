{
 "cells": [
  {
   "cell_type": "code",
   "execution_count": null,
   "id": "d6f7c8cf-3ede-4bba-b967-5c837a1baaa0",
   "metadata": {},
   "outputs": [],
   "source": [
    "Halo halo"
   ]
  }
 ],
 "metadata": {
  "kernelspec": {
   "display_name": "Python 3 (ipykernel)",
   "language": "python",
   "name": "python3"
  },
  "language_info": {
   "codemirror_mode": {
    "name": "ipython",
    "version": 3
   },
   "file_extension": ".py",
   "mimetype": "text/x-python",
   "name": "python",
   "nbconvert_exporter": "python",
   "pygments_lexer": "ipython3",
   "version": "3.12.3"
  }
 },
 "nbformat": 4,
 "nbformat_minor": 5
}
